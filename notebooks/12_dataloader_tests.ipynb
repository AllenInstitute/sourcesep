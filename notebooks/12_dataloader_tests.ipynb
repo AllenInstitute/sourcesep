{
 "cells": [
  {
   "cell_type": "code",
   "execution_count": 1,
   "metadata": {},
   "outputs": [],
   "source": [
    "# This notebook has some rudimentary tests to check my understanding of randomness in dataloading\n",
    "\n",
    "import numpy as np\n",
    "from torch.utils.data import DataLoader\n",
    "\n",
    "from sourcesep.utils.config import load_config\n",
    "from sourcesep.models.helpers import H5Dataset\n",
    "\n",
    "import seaborn as sns\n",
    "\n",
    "sns.set_theme(font_scale=0.8)\n",
    "%config InlineBackend.figure_format='retina'"
   ]
  },
  {
   "cell_type": "code",
   "execution_count": 2,
   "metadata": {},
   "outputs": [
    {
     "name": "stdout",
     "output_type": "stream",
     "text": [
      "Paths are for dataset tagged: all\n"
     ]
    }
   ],
   "source": [
    "n_epochs = 2000\n",
    "train_steps_per_epoch = 1000\n",
    "val_steps_per_epoch = 20\n",
    "batch_size = 2\n",
    "\n",
    "# data paths\n",
    "paths = load_config(dataset_key=\"all\")\n",
    "sim_name = \"2023-03-08\"\n",
    "h5_filename = str(paths[\"root\"] / \"sims\" / f\"{sim_name}.h5\")\n",
    "\n",
    "dat = H5Dataset(h5_filename=h5_filename, n_timesamples=2000)"
   ]
  },
  {
   "cell_type": "code",
   "execution_count": 3,
   "metadata": {},
   "outputs": [
    {
     "name": "stdout",
     "output_type": "stream",
     "text": [
      "iterating over Dataset ourselves, we get one sample at a time\n",
      "0 dict_keys(['O', 'A', 'N', 'M', 'H_ox', 'H_dox']) (300, 2000)\n",
      "1 dict_keys(['O', 'A', 'N', 'M', 'H_ox', 'H_dox']) (300, 2000)\n",
      "\n",
      "0 dict_keys(['O', 'A', 'N', 'M', 'H_ox', 'H_dox']) (300, 2000)\n",
      "1 dict_keys(['O', 'A', 'N', 'M', 'H_ox', 'H_dox']) (300, 2000)\n",
      "2 dict_keys(['O', 'A', 'N', 'M', 'H_ox', 'H_dox']) (300, 2000)\n",
      "\n",
      "Torch dataloader - return batches\n",
      "0 dict_keys(['O', 'A', 'N', 'M', 'H_ox', 'H_dox']) torch.Size([20, 300, 2000])\n",
      "1 dict_keys(['O', 'A', 'N', 'M', 'H_ox', 'H_dox']) torch.Size([20, 300, 2000])\n",
      "2 dict_keys(['O', 'A', 'N', 'M', 'H_ox', 'H_dox']) torch.Size([20, 300, 2000])\n"
     ]
    }
   ],
   "source": [
    "print(\"iterating over Dataset ourselves, we get one sample at a time\")\n",
    "dat_iter_native = iter(dat)\n",
    "for i in range(2):\n",
    "    batch = next(dat_iter_native)\n",
    "    print(i, batch.keys(), batch[\"O\"].shape)\n",
    "\n",
    "print(\"\")\n",
    "\n",
    "dat_iter_native = iter(dat)\n",
    "for i, x in enumerate(dat_iter_native):  # this would know when to stop\n",
    "    batch = next(dat_iter_native)\n",
    "    print(i, batch.keys(), batch[\"O\"].shape)\n",
    "    if i >= 2:\n",
    "        break\n",
    "\n",
    "print(\"\\nTorch dataloader - return batches\")\n",
    "dat_iter_torch = DataLoader(dat, shuffle=True, batch_size=20, num_workers=8)\n",
    "for i, batch in enumerate(dat_iter_torch):\n",
    "    print(i, batch.keys(), batch[\"O\"].shape)\n",
    "    if i >= 2:\n",
    "        break"
   ]
  },
  {
   "cell_type": "code",
   "execution_count": 4,
   "metadata": {},
   "outputs": [
    {
     "name": "stdout",
     "output_type": "stream",
     "text": [
      "next random draw is with a seed\n",
      "[6 3 7 4 6]\n",
      "[9 4 3 8 8]\n",
      "[4 0 5 9 2]\n",
      "next random draw is with a seed\n",
      "[6 3 7 4 6]\n",
      "[6 3 7 1 2]\n",
      "[3 3 0 1 2]\n",
      "next random draw is with a seed\n",
      "[6 3 7 4 6]\n",
      "[1 0 0 6 5]\n",
      "[6 6 5 5 6]\n",
      "next random draw is with a seed\n",
      "[6 3 7 4 6]\n"
     ]
    }
   ],
   "source": [
    "# The draw where the seed is reset is deterministic, but it does not affect the global randomness\n",
    "\n",
    "for i in range(10):\n",
    "    random_integers = np.random.randint(low=0, high=10, size=5)\n",
    "    if i % 3 == 0:\n",
    "        print(\"next random draw is with a seed\")\n",
    "        rng = np.random.RandomState(42)\n",
    "        random_integers = rng.randint(low=0, high=10, size=5)\n",
    "    print(random_integers)"
   ]
  },
  {
   "cell_type": "code",
   "execution_count": 5,
   "metadata": {},
   "outputs": [
    {
     "name": "stdout",
     "output_type": "stream",
     "text": [
      "Draw with fixed seed, n_draws = 2\n",
      "[6]\n",
      "[3]\n",
      "Draw with fixed seed, n_draws = 5\n",
      "[6]\n",
      "[3]\n",
      "[7]\n",
      "[4]\n",
      "[6]\n",
      "Draw with fixed seed, n_draws = 10\n",
      "[6]\n",
      "[3]\n",
      "[7]\n",
      "[4]\n",
      "[6]\n",
      "[9]\n",
      "[2]\n",
      "[6]\n",
      "[7]\n",
      "[4]\n"
     ]
    }
   ],
   "source": [
    "# This defines repeatable irrespective of the number of draws.\n",
    "def genrandoms(seed, n):\n",
    "    rng = np.random.RandomState(seed)\n",
    "    for _ in range(n):\n",
    "        yield rng.randint(low=0, high=10, size=1)\n",
    "    raise StopIteration\n",
    "\n",
    "\n",
    "# randomness resets after n draws:\n",
    "seed = 42\n",
    "for n_draws in [2, 5, 10]:\n",
    "    print(\"Draw with fixed seed, n_draws =\", n_draws)\n",
    "    x = genrandoms(seed=seed, n=n_draws)\n",
    "    for _ in range(10):\n",
    "        try:\n",
    "            print(next(x))\n",
    "        except:\n",
    "            break"
   ]
  },
  {
   "cell_type": "code",
   "execution_count": 6,
   "metadata": {},
   "outputs": [
    {
     "name": "stdout",
     "output_type": "stream",
     "text": [
      "[9 8 9 6 1]\n",
      "[6 2 6 8 1]\n"
     ]
    }
   ],
   "source": [
    "# When seed is set to None, it doesn't reset the randomness\n",
    "rng = np.random.RandomState(None)\n",
    "random_integers = rng.randint(low=0, high=10, size=5)\n",
    "print(random_integers)\n",
    "\n",
    "rng = np.random.RandomState(None)\n",
    "random_integers = rng.randint(low=0, high=10, size=5)\n",
    "print(random_integers)"
   ]
  }
 ],
 "metadata": {
  "kernelspec": {
   "display_name": "sourcesep2",
   "language": "python",
   "name": "python3"
  },
  "language_info": {
   "codemirror_mode": {
    "name": "ipython",
    "version": 3
   },
   "file_extension": ".py",
   "mimetype": "text/x-python",
   "name": "python",
   "nbconvert_exporter": "python",
   "pygments_lexer": "ipython3",
   "version": "3.8.0"
  },
  "orig_nbformat": 4
 },
 "nbformat": 4,
 "nbformat_minor": 2
}
