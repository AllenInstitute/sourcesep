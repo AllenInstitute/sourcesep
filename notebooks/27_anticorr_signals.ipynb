{
 "cells": [
  {
   "cell_type": "markdown",
   "metadata": {},
   "source": [
    "\n",
    "\n",
    "$\\newcommand{\\Rpos}{\\mathbb{R}_{\\geq 0}}$\n",
    "\n",
    "Consider $Y \\in \\Rpos^{2 \\times T}$, factorized as $A \\in \\Rpos^{2 \\times 1}$ and $X \\in \\Rpos^{1 \\times T}$. \n",
    "\n",
    "To simulate the case where signal in one of the channels is perfectly anticorrelated to another, consider:\n",
    "\n",
    "$$\n",
    "\\begin{align}\n",
    "y_{1,t} &= b + c_1\\hat{y}_{t} \\\\\n",
    "y_{2,t} &= b - c_2\\hat{y}_{t} \\\\\n",
    "\\end{align}\n",
    "$$\n",
    "\n",
    "Let the following be true for some $c_1 \\gt 0$ and $c_2 \\gt 0$: \n",
    "$$\n",
    "\\begin{align}\n",
    "a_1 x_t &= b + c_1\\hat{y}_{t} \\\\\n",
    "a_2 x_t &= b - c_2\\hat{y}_{t} \\\\\n",
    "\\end{align}\n",
    "$$\n",
    "\n",
    "Then:\n",
    "$$\n",
    "b(a_2 - a_1) + (a_2 c_1  + a_1 c_2) \\hat{y}_{t} = 0 \n",
    "$$\n",
    "\n",
    "For this to be true for arbitrary $\\hat{y}_{t}$ and $b \\geq 0$, \n",
    " - $a_2 = a_1$, \n",
    " - and therefore also $c_1 = -c_2$. \n",
    " This means the setup is valid only for the trivial case of $y_{1,t} = y_{2,t}$\n",
    "\n",
    "\n"
   ]
  }
 ],
 "metadata": {
  "language_info": {
   "name": "python"
  }
 },
 "nbformat": 4,
 "nbformat_minor": 2
}
