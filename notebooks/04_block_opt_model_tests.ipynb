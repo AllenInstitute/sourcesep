{
 "cells": [
  {
   "cell_type": "markdown",
   "metadata": {},
   "source": [
    "### Block optimization model\n",
    "\n",
    " - In this approach, we solve an optimization problem for each observation time block. \n",
    " - Parameters (as listed in table above) are estimated through a gradient procedure for each block. \n",
    " - Initializations and constraints need to be specified for the model to converge to reasonable solutions"
   ]
  },
  {
   "cell_type": "code",
   "execution_count": 1,
   "metadata": {},
   "outputs": [
    {
     "name": "stderr",
     "output_type": "stream",
     "text": [
      "/Users/fruity/miniconda3/envs/sourcesep/lib/python3.8/site-packages/tqdm/auto.py:22: TqdmWarning: IProgress not found. Please update jupyter and ipywidgets. See https://ipywidgets.readthedocs.io/en/stable/user_install.html\n",
      "  from .autonotebook import tqdm as notebook_tqdm\n"
     ]
    }
   ],
   "source": [
    "import torch\n",
    "import numpy as np\n",
    "import matplotlib.pyplot as plt\n",
    "from sourcesep.models.block_opt import Model\n",
    "rng = np.random.default_rng()\n",
    "\n",
    "# constants indicating shape of different simulation parameters and constants:\n",
    "T = 10  # n_samples in time window\n",
    "I = 3   # n_indicators\n",
    "L = 20  # n_pixels (wavelengths)\n",
    "J = 2   # n_laser channels\n",
    "\n",
    "S = rng.random((I, L))      # replace these with simulated values\n",
    "E = rng.random((J, L))      # replace these with simulated values\n",
    "Mu_ox = rng.random((L,))    # replace with known values\n",
    "Mu_dox = rng.random((L,))   # replace with known values\n",
    "\n",
    "# observation to fit - this should come from the model itself.\n",
    "O = torch.tensor(rng.random((T, J, L))).to(torch.float)\n",
    "\n"
   ]
  },
  {
   "cell_type": "code",
   "execution_count": 2,
   "metadata": {},
   "outputs": [
    {
     "name": "stdout",
     "output_type": "stream",
     "text": [
      "Step: 000 Loss: 2.059\n",
      "Step: 001 Loss: 2.053\n",
      "Step: 002 Loss: 2.047\n",
      "Step: 003 Loss: 2.041\n",
      "Step: 004 Loss: 2.034\n",
      "Step: 005 Loss: 2.028\n",
      "Step: 006 Loss: 2.022\n",
      "Step: 007 Loss: 2.016\n",
      "Step: 008 Loss: 2.010\n",
      "Step: 009 Loss: 2.004\n",
      "Step: 010 Loss: 1.998\n",
      "Step: 011 Loss: 1.992\n",
      "Step: 012 Loss: 1.987\n",
      "Step: 013 Loss: 1.981\n",
      "Step: 014 Loss: 1.975\n",
      "Step: 015 Loss: 1.970\n",
      "Step: 016 Loss: 1.964\n",
      "Step: 017 Loss: 1.958\n",
      "Step: 018 Loss: 1.953\n",
      "Step: 019 Loss: 1.948\n",
      "Step: 020 Loss: 1.942\n",
      "Step: 021 Loss: 1.937\n",
      "Step: 022 Loss: 1.931\n",
      "Step: 023 Loss: 1.926\n",
      "Step: 024 Loss: 1.921\n",
      "Step: 025 Loss: 1.916\n",
      "Step: 026 Loss: 1.911\n",
      "Step: 027 Loss: 1.906\n",
      "Step: 028 Loss: 1.900\n",
      "Step: 029 Loss: 1.895\n",
      "Step: 030 Loss: 1.890\n",
      "Step: 031 Loss: 1.885\n",
      "Step: 032 Loss: 1.881\n",
      "Step: 033 Loss: 1.876\n",
      "Step: 034 Loss: 1.871\n",
      "Step: 035 Loss: 1.866\n",
      "Step: 036 Loss: 1.861\n",
      "Step: 037 Loss: 1.857\n",
      "Step: 038 Loss: 1.852\n",
      "Step: 039 Loss: 1.847\n",
      "Step: 040 Loss: 1.843\n",
      "Step: 041 Loss: 1.838\n",
      "Step: 042 Loss: 1.833\n",
      "Step: 043 Loss: 1.829\n",
      "Step: 044 Loss: 1.824\n",
      "Step: 045 Loss: 1.820\n",
      "Step: 046 Loss: 1.815\n",
      "Step: 047 Loss: 1.811\n",
      "Step: 048 Loss: 1.807\n",
      "Step: 049 Loss: 1.802\n",
      "Step: 050 Loss: 1.798\n",
      "Step: 051 Loss: 1.794\n",
      "Step: 052 Loss: 1.790\n",
      "Step: 053 Loss: 1.785\n",
      "Step: 054 Loss: 1.781\n",
      "Step: 055 Loss: 1.777\n",
      "Step: 056 Loss: 1.773\n",
      "Step: 057 Loss: 1.769\n",
      "Step: 058 Loss: 1.765\n",
      "Step: 059 Loss: 1.761\n",
      "Step: 060 Loss: 1.757\n",
      "Step: 061 Loss: 1.753\n",
      "Step: 062 Loss: 1.749\n",
      "Step: 063 Loss: 1.745\n",
      "Step: 064 Loss: 1.741\n",
      "Step: 065 Loss: 1.737\n",
      "Step: 066 Loss: 1.733\n",
      "Step: 067 Loss: 1.729\n",
      "Step: 068 Loss: 1.725\n",
      "Step: 069 Loss: 1.722\n",
      "Step: 070 Loss: 1.718\n",
      "Step: 071 Loss: 1.714\n",
      "Step: 072 Loss: 1.710\n",
      "Step: 073 Loss: 1.707\n",
      "Step: 074 Loss: 1.703\n",
      "Step: 075 Loss: 1.699\n",
      "Step: 076 Loss: 1.696\n",
      "Step: 077 Loss: 1.692\n",
      "Step: 078 Loss: 1.689\n",
      "Step: 079 Loss: 1.685\n",
      "Step: 080 Loss: 1.681\n",
      "Step: 081 Loss: 1.678\n",
      "Step: 082 Loss: 1.674\n",
      "Step: 083 Loss: 1.671\n",
      "Step: 084 Loss: 1.668\n",
      "Step: 085 Loss: 1.664\n",
      "Step: 086 Loss: 1.661\n",
      "Step: 087 Loss: 1.657\n",
      "Step: 088 Loss: 1.654\n",
      "Step: 089 Loss: 1.651\n",
      "Step: 090 Loss: 1.647\n",
      "Step: 091 Loss: 1.644\n",
      "Step: 092 Loss: 1.641\n",
      "Step: 093 Loss: 1.637\n",
      "Step: 094 Loss: 1.634\n",
      "Step: 095 Loss: 1.631\n",
      "Step: 096 Loss: 1.628\n",
      "Step: 097 Loss: 1.625\n",
      "Step: 098 Loss: 1.621\n",
      "Step: 099 Loss: 1.618\n"
     ]
    }
   ],
   "source": [
    "model = Model(T=T, I=I, L=L, J=J, S=S, E=E, Mu_ox=Mu_ox, Mu_dox=Mu_dox)\n",
    "optimizer = torch.optim.SGD(model.parameters(), lr=0.001)\n",
    "\n",
    "n_steps = 100\n",
    "loss_list = np.empty(n_steps)\n",
    "for step in range(n_steps):\n",
    "    O_pred = model(O)\n",
    "    loss = torch.mean(torch.square(O_pred - O))\n",
    "    loss.backward()\n",
    "    optimizer.step()\n",
    "    optimizer.zero_grad()\n",
    "\n",
    "    loss_list[step] = loss.detach().numpy()\n",
    "    print(f'Step: {step:03d} Loss: {loss_list[step]:0.3f}')"
   ]
  },
  {
   "cell_type": "code",
   "execution_count": 3,
   "metadata": {},
   "outputs": [
    {
     "data": {
      "image/png": "[encoded data removed]",
      "text/plain": [
       "<Figure size 400x300 with 1 Axes>"
      ]
     },
     "metadata": {},
     "output_type": "display_data"
    }
   ],
   "source": [
    "f, ax = plt.subplots(1, 1, figsize=(4, 3))\n",
    "ax.plot(np.arange(n_steps), loss_list, '.', label='MSE')\n",
    "ax.set(xlabel='time (s)', ylabel='activity')\n",
    "plt.legend()\n",
    "plt.show()"
   ]
  }
 ],
 "metadata": {
  "kernelspec": {
   "display_name": "sourcesep",
   "language": "python",
   "name": "python3"
  },
  "language_info": {
   "codemirror_mode": {
    "name": "ipython",
    "version": 3
   },
   "file_extension": ".py",
   "mimetype": "text/x-python",
   "name": "python",
   "nbconvert_exporter": "python",
   "pygments_lexer": "ipython3",
   "version": "3.8.0"
  },
  "orig_nbformat": 4,
  "vscode": {
   "interpreter": {
    "hash": "b1dabdb1e2511521551b143b135b19bee1bbdcf4ccf3fce7c783f6fafcde3e4b"
   }
  }
 },
 "nbformat": 4,
 "nbformat_minor": 2
}
