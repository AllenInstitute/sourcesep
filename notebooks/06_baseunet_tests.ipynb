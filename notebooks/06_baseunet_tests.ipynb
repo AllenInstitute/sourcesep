{
 "cells": [
  {
   "cell_type": "code",
   "execution_count": null,
   "metadata": {},
   "outputs": [],
   "source": [
    "import numpy as np\n",
    "import pandas as pd\n",
    "import matplotlib.pyplot as plt\n",
    "import seaborn as sns\n",
    "from timebudget import timebudget\n",
    "from itertools import chain\n",
    "from rich import print as pprint\n",
    "\n",
    "import torch\n",
    "import torch.nn as nn\n",
    "\n",
    "from sourcesep.sim import SimData\n",
    "from sourcesep.utils.config import load_config\n",
    "from sourcesep.models.baseunet import BaseUnet\n",
    "\n",
    "sns.set_theme(font_scale=0.8)\n",
    "%config InlineBackend.figure_format='retina'"
   ]
  },
  {
   "cell_type": "code",
   "execution_count": null,
   "metadata": {},
   "outputs": [],
   "source": [
    "paths = load_config(dataset_key='all')\n",
    "sim = SimData(T=1024, cfg_path=paths['root'] / \"sim_config.toml\")\n",
    "dat = sim.compose()\n",
    "print(dat.keys())\n",
    "print(dat['O'].shape)\n",
    "print(sim.cfg['indicator'].keys())\n",
    "print(sim.cfg['laser'].keys())"
   ]
  },
  {
   "cell_type": "code",
   "execution_count": null,
   "metadata": {},
   "outputs": [],
   "source": [
    "import torch\n",
    "import torch.nn as nn\n",
    "\n",
    "# input is of shape (T=1000, J=5, L=300) (time, laser, lambda)\n",
    "# output is of shape (T=1000, I=8) (time, sources={indicators, hemodynamics, noise})\n",
    "# Conv3d input is expected with shape (N, C=1 ,D=time ,H=lasers ,W=lambda)\n",
    "\n",
    "T = 1024\n",
    "J = 5\n",
    "L = 300\n",
    "\n",
    "mse_A = nn.L1Loss(reduction='mean')\n",
    "mse_H_ox = nn.L1Loss(reduction='mean')\n",
    "mse_H_dox = nn.L1Loss(reduction='mean')\n",
    "\n",
    "if torch.cuda.is_available():\n",
    "    device = torch.device('cuda')\n",
    "else:\n",
    "    device = torch.device('cpu')"
   ]
  },
  {
   "cell_type": "code",
   "execution_count": null,
   "metadata": {},
   "outputs": [],
   "source": [
    "model = BaseUnet(in_channels=1500, out_channels=5)\n",
    "model.to(device)\n",
    "print(device)"
   ]
  },
  {
   "cell_type": "code",
   "execution_count": null,
   "metadata": {},
   "outputs": [],
   "source": [
    "n_steps = 500\n",
    "optimizer = torch.optim.Adam(model.parameters(), lr=1e-3)"
   ]
  },
  {
   "cell_type": "code",
   "execution_count": null,
   "metadata": {},
   "outputs": [],
   "source": [
    "dat = sim.compose()\n",
    "\n",
    "# input reshaping\n",
    "input = dat['O'][np.newaxis, ...]  # insert 'batch' axis\n",
    "input = np.reshape(input, newshape=(1, 1024, 1500))\n",
    "input = np.swapaxes(input, 1,2)\n",
    "input = torch.as_tensor(input, dtype=torch.float32, device=device)\n",
    "\n",
    "# targets\n",
    "A = torch.as_tensor(dat['A'], dtype=torch.float32, device=device)\n",
    "H_ox = torch.as_tensor(dat['H_ox'], dtype=torch.float32, device=device)\n",
    "H_dox = torch.as_tensor(dat['H_dox'], dtype=torch.float32, device=device)"
   ]
  },
  {
   "cell_type": "code",
   "execution_count": null,
   "metadata": {},
   "outputs": [],
   "source": [
    "plot_freq = 500\n",
    "n_steps = 5000\n",
    "\n",
    "def tonumpy(x):\n",
    "    return x.cpu().detach().numpy()\n",
    "\n",
    "for step in range(n_steps):\n",
    "    dat = sim.compose()\n",
    "\n",
    "    # input reshaping\n",
    "    input = dat['O'][np.newaxis, ...]  # insert 'batch' axis\n",
    "    input = np.reshape(input, newshape=(1, 1024, 1500))\n",
    "    input = np.swapaxes(input, 1,2)\n",
    "    input = torch.as_tensor(input, dtype=torch.float32, device=device)\n",
    "\n",
    "    # targets\n",
    "    A = torch.as_tensor(dat['A'], dtype=torch.float32, device=device)\n",
    "    H_ox = torch.as_tensor(dat['H_ox'], dtype=torch.float32, device=device)\n",
    "    H_dox = torch.as_tensor(dat['H_dox'], dtype=torch.float32, device=device)\n",
    "\n",
    "    # model forward pass\n",
    "    output = model(input.to(device))\n",
    "\n",
    "    # loss\n",
    "    Ar = torch.squeeze(output[0, 0:3, ...])\n",
    "    H_oxr = torch.squeeze(output[0, 3, ...])\n",
    "    H_doxr = torch.squeeze(output[0, 4, ...])\n",
    "    # avoid dealing with boundary issues for now\n",
    "\n",
    "    loss = 10*mse_A(Ar.T[256:-256, 0], A[256:-256, 0]) \\\n",
    "        + 10*mse_A(Ar.T[256:-256, 1], A[256:-256, 1]) \\\n",
    "        + 10*mse_A(Ar.T[256:-256, 2], A[256:-256, 2]) \\\n",
    "        + 0*mse_H_ox(H_oxr, H_ox) \\\n",
    "        + 0*mse_H_ox(H_doxr, H_dox)\n",
    "\n",
    "    if (step+1) % plot_freq == 0:\n",
    "        print(f'Step: {step} -- Loss: {tonumpy(loss):0.4f}')\n",
    "        f, ax = plt.subplots(3, 1, figsize=(4, 6))\n",
    "        for i in range(3):\n",
    "            ax[i].plot(tonumpy(A)[256:-256, i], '-b')\n",
    "            ax[i].plot(tonumpy(Ar).T[256:-256, i], '-r', alpha=0.5)\n",
    "            #ax[i].set(ylim=(0.5,1.5))\n",
    "\n",
    "        f, ax = plt.subplots(2,1,figsize=(4,4))\n",
    "        ax[0].plot(tonumpy(H_ox),'-b')\n",
    "        ax[0].plot(tonumpy(H_oxr.T),'-r',alpha=0.5)\n",
    "        ax[0].set(title='ox')\n",
    "\n",
    "        ax[1].plot(tonumpy(H_dox),'-b')\n",
    "        ax[1].plot(tonumpy(H_doxr.T),'-r',alpha=0.5)\n",
    "        ax[1].set(title='dox')\n",
    "        plt.show()\n",
    "\n",
    "    else:\n",
    "        loss.backward()\n",
    "        optimizer.step()\n",
    "        optimizer.zero_grad()\n"
   ]
  },
  {
   "cell_type": "code",
   "execution_count": null,
   "metadata": {},
   "outputs": [],
   "source": []
  }
 ],
 "metadata": {
  "kernelspec": {
   "display_name": "sourcesep",
   "language": "python",
   "name": "python3"
  },
  "language_info": {
   "codemirror_mode": {
    "name": "ipython",
    "version": 3
   },
   "file_extension": ".py",
   "mimetype": "text/x-python",
   "name": "python",
   "nbconvert_exporter": "python",
   "pygments_lexer": "ipython3",
   "version": "3.8.0"
  },
  "orig_nbformat": 4,
  "vscode": {
   "interpreter": {
    "hash": "b1dabdb1e2511521551b143b135b19bee1bbdcf4ccf3fce7c783f6fafcde3e4b"
   }
  }
 },
 "nbformat": 4,
 "nbformat_minor": 2
}
