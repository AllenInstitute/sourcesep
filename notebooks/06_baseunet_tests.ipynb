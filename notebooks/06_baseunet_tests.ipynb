{
 "cells": [
  {
   "cell_type": "code",
   "execution_count": null,
   "metadata": {},
   "outputs": [],
   "source": [
    "import numpy as np\n",
    "import pandas as pd\n",
    "import matplotlib.pyplot as plt\n",
    "import seaborn as sns\n",
    "from timebudget import timebudget\n",
    "from itertools import chain\n",
    "from rich import print as pprint\n",
    "\n",
    "import torch\n",
    "import torch.nn as nn\n",
    "\n",
    "from sourcesep.sim import SimData\n",
    "from sourcesep.utils.config import load_config\n",
    "from sourcesep.models.baseunet import BaseUnet\n",
    "\n",
    "sns.set_theme(font_scale=0.8)\n",
    "%config InlineBackend.figure_format='retina'"
   ]
  },
  {
   "cell_type": "code",
   "execution_count": null,
   "metadata": {},
   "outputs": [],
   "source": [
    "paths = load_config(dataset_key='all')\n",
    "sim = SimData(T=1024, cfg_path=paths['root'] / \"sim_config.toml\")\n",
    "dat = sim.compose()\n",
    "print(dat.keys())\n",
    "print(dat['O'].shape)\n",
    "print(sim.cfg['indicator'].keys())\n",
    "print(sim.cfg['laser'].keys())"
   ]
  },
  {
   "cell_type": "code",
   "execution_count": null,
   "metadata": {},
   "outputs": [],
   "source": [
    "import torch\n",
    "import torch.nn as nn\n",
    "\n",
    "# input is of shape (T=1000, J=5, L=300) (time, laser, lambda)\n",
    "# output is of shape (T=1000, I=8) (time, sources={indicators, hemodynamics, noise})\n",
    "# Conv3d input is expected with shape (N, C=1 ,D=time ,H=lasers ,W=lambda)\n",
    "\n",
    "T = 1024\n",
    "J = 5\n",
    "L = 300\n",
    "\n",
    "mse_A = nn.MSELoss(reduction='mean')\n",
    "mse_H_ox = nn.MSELoss(reduction='mean')\n",
    "mse_H_dox = nn.MSELoss(reduction='mean')"
   ]
  },
  {
   "cell_type": "code",
   "execution_count": null,
   "metadata": {},
   "outputs": [],
   "source": [
    "model = BaseUnet(in_channels=1500, out_channels=5)"
   ]
  },
  {
   "cell_type": "code",
   "execution_count": null,
   "metadata": {},
   "outputs": [],
   "source": [
    "n_steps = 500\n",
    "optimizer = torch.optim.Adam(model.parameters(), lr=1e-3)"
   ]
  },
  {
   "cell_type": "code",
   "execution_count": null,
   "metadata": {},
   "outputs": [],
   "source": [
    "dat = sim.compose()\n",
    "\n",
    "# input reshaping\n",
    "input = dat['O'][np.newaxis, ...]  # insert 'batch' axis\n",
    "input = np.reshape(input, newshape=(1, 1024, 1500))\n",
    "input = np.swapaxes(input, 1,2)\n",
    "input = torch.as_tensor(input, dtype=torch.float32)\n",
    "\n",
    "# targets\n",
    "A = torch.as_tensor(dat['A'], dtype=torch.float32)\n",
    "H_ox = torch.as_tensor(dat['H_ox'], dtype=torch.float32)\n",
    "H_dox = torch.as_tensor(dat['H_dox'], dtype=torch.float32)\n",
    "\n",
    "# model forward pass\n",
    "output = model(input)"
   ]
  },
  {
   "cell_type": "code",
   "execution_count": null,
   "metadata": {},
   "outputs": [],
   "source": [
    "output.shape"
   ]
  },
  {
   "cell_type": "code",
   "execution_count": null,
   "metadata": {},
   "outputs": [],
   "source": [
    "\n",
    "for step in range(n_steps):\n",
    "    dat = sim.compose()\n",
    "\n",
    "    # input reshaping\n",
    "    input = dat['O'][np.newaxis, ...]  # insert 'batch' axis\n",
    "    input = np.reshape(input, newshape=(1, 1024, 1500))\n",
    "    input = np.swapaxes(input, 1,2)\n",
    "    input = torch.as_tensor(input, dtype=torch.float32)\n",
    "\n",
    "    # targets\n",
    "    A = torch.as_tensor(dat['A'], dtype=torch.float32)\n",
    "    H_ox = torch.as_tensor(dat['H_ox'], dtype=torch.float32)\n",
    "    H_dox = torch.as_tensor(dat['H_dox'], dtype=torch.float32)\n",
    "\n",
    "    # model forward pass\n",
    "    output = model(input)\n",
    "\n",
    "    # loss\n",
    "    Ar = torch.squeeze(output[0, 0:3, ...])\n",
    "    H_oxr = torch.squeeze(output[0, 3, ...])\n",
    "    H_doxr = torch.squeeze(output[0, 4, ...])\n",
    "    loss = 1*mse_A(Ar.T, A) \\\n",
    "        + 1*mse_H_ox(H_oxr, H_ox) \\\n",
    "        + 1*mse_H_ox(H_doxr, H_dox)\n",
    "\n",
    "    if (step+1) % 100 == 0:\n",
    "        print(f'Step: {step} -- Loss: {loss.detach().numpy():0.4f}')\n",
    "        f, ax = plt.subplots(3,1,figsize=(4,6))\n",
    "        for i in range(3):\n",
    "            ax[i].plot(A.detach().numpy()[:,i],'-b')\n",
    "            ax[i].plot(Ar.detach().numpy().T[:,i],'-r',alpha=0.5)\n",
    "            ax[i].set(ylim=(-1.5,1.5))\n",
    "\n",
    "        f, ax = plt.subplots(2,1,figsize=(4,4))\n",
    "        ax[0].plot(H_ox.detach().numpy(),'-b')\n",
    "        ax[0].plot(H_oxr.detach().numpy().T,'-r',alpha=0.5)\n",
    "        ax[0].set(ylim=(0.8,1.2), title='ox')\n",
    "\n",
    "        ax[1].plot(H_dox.detach().numpy(),'-b')\n",
    "        ax[1].plot(H_doxr.detach().numpy().T,'-r',alpha=0.5)\n",
    "        ax[1].set(ylim=(0.8,1.2), title='dox')\n",
    "        plt.show()\n",
    "\n",
    "    else:\n",
    "        loss.backward()\n",
    "        optimizer.step()\n",
    "        optimizer.zero_grad()\n"
   ]
  }
 ],
 "metadata": {
  "kernelspec": {
   "display_name": "Python 3.8.13 ('sourcesep')",
   "language": "python",
   "name": "python3"
  },
  "language_info": {
   "codemirror_mode": {
    "name": "ipython",
    "version": 3
   },
   "file_extension": ".py",
   "mimetype": "text/x-python",
   "name": "python",
   "nbconvert_exporter": "python",
   "pygments_lexer": "ipython3",
   "version": "3.8.13"
  },
  "orig_nbformat": 4,
  "vscode": {
   "interpreter": {
    "hash": "fe5204c47d4a3eb471919b966893796068f1a2129f68a551c6d9531c6f8b1052"
   }
  }
 },
 "nbformat": 4,
 "nbformat_minor": 2
}
