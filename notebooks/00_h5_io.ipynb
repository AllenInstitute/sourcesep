{
 "cells": [
  {
   "cell_type": "code",
   "execution_count": 1,
   "metadata": {},
   "outputs": [],
   "source": [
    "import h5py\n",
    "import pandas as pd\n",
    "from sourcesep.utils.config import load_config\n"
   ]
  },
  {
   "cell_type": "code",
   "execution_count": 2,
   "metadata": {},
   "outputs": [
    {
     "name": "stdout",
     "output_type": "stream",
     "text": [
      "Paths are for dataset tagged: pilot\n"
     ]
    }
   ],
   "source": [
    "paths = load_config(dataset_key='pilot')\n",
    "df_dict = dict(GCaMP8s_1 = pd.read_csv(paths['data_dir']/'GCaMP8s_1.csv', index_col=[0]),\n",
    "           GCaMP8s_2 = pd.read_csv(paths['data_dir']/'GCaMP8s_2.csv', index_col=[0]),\n",
    "           GCaMP8s_3 = pd.read_csv(paths['data_dir']/'GCaMP8s_3.csv', index_col=[0]),\n",
    "           HbAbs = pd.read_csv(paths['data_dir']/'HbAbs.csv'),\n",
    "           IndicatorSpectra = pd.read_csv(paths['data_dir']/'IndicatorSpectra.csv'))"
   ]
  },
  {
   "cell_type": "code",
   "execution_count": 3,
   "metadata": {},
   "outputs": [
    {
     "name": "stdout",
     "output_type": "stream",
     "text": [
      "\n",
      "GCaMP8s_1\n",
      "       time       signal\n",
      "0  0.000000  2539.738556\n",
      "1  0.024409  2556.222711\n",
      "time      float64\n",
      "signal    float64\n",
      "dtype: object\n",
      "\n",
      "GCaMP8s_2\n",
      "      time       signal\n",
      "0  0.00000  1646.507353\n",
      "1  0.07469  1665.477941\n",
      "time      float64\n",
      "signal    float64\n",
      "dtype: object\n",
      "\n",
      "GCaMP8s_3\n",
      "       time       signal\n",
      "0  0.000000  2112.720760\n",
      "1  0.013369  2095.124269\n",
      "time      float64\n",
      "signal    float64\n",
      "dtype: object\n",
      "\n",
      "HbAbs\n",
      "   wavelength  Hb02 (cm-1/M)  Hb (cm-1/M)\n",
      "0         250       106112.0     112736.0\n",
      "1         252       105552.0     112736.0\n",
      "wavelength         int64\n",
      "Hb02 (cm-1/M)    float64\n",
      "Hb (cm-1/M)      float64\n",
      "dtype: object\n",
      "\n",
      "IndicatorSpectra\n",
      "   wavelength  EGFP ex  EGFP em\n",
      "0         300   0.0962      NaN\n",
      "1         301   0.0872      NaN\n",
      "wavelength      int64\n",
      "EGFP ex       float64\n",
      "EGFP em       float64\n",
      "dtype: object\n"
     ]
    }
   ],
   "source": [
    "for key in df_dict.keys():\n",
    "    print(f'\\n{key}')\n",
    "    print(df_dict[key].head(2))\n",
    "    print(df_dict[key].dtypes)"
   ]
  },
  {
   "cell_type": "code",
   "execution_count": 4,
   "metadata": {},
   "outputs": [],
   "source": [
    "# write h5 file with pandas dataframes\n",
    "store = pd.HDFStore(paths['data_dir']/'pilot.hdf5')\n",
    "for key in df_dict.keys():\n",
    "    df_dict[key].to_hdf(store, key=key, mode='a')\n",
    "store.close()"
   ]
  },
  {
   "cell_type": "code",
   "execution_count": 5,
   "metadata": {},
   "outputs": [
    {
     "name": "stdout",
     "output_type": "stream",
     "text": [
      "<KeysViewHDF5 ['GCaMP8s_1', 'GCaMP8s_2', 'GCaMP8s_3', 'HbAbs', 'IndicatorSpectra']>\n",
      "<KeysViewHDF5 ['axis0', 'axis1', 'block0_items', 'block0_values']>\n",
      "       time       signal\n",
      "0  0.000000  2539.738556\n",
      "1  0.024409  2556.222711\n"
     ]
    }
   ],
   "source": [
    "# If not using pandas:\n",
    "with h5py.File(paths['data_dir']/'pilot.hdf5', 'r') as f:\n",
    "    print(f.keys())\n",
    "    print(f['GCaMP8s_1'].keys())\n",
    "\n",
    "# if using pandas:\n",
    "GCaMP8s_1 = pd.read_hdf(paths['data_dir']/'pilot.hdf5', key='GCaMP8s_1',more='r')\n",
    "print(GCaMP8s_1.head(2))\n"
   ]
  }
 ],
 "metadata": {
  "kernelspec": {
   "display_name": "Python 3.8.13 ('sourcesep')",
   "language": "python",
   "name": "python3"
  },
  "language_info": {
   "codemirror_mode": {
    "name": "ipython",
    "version": 3
   },
   "file_extension": ".py",
   "mimetype": "text/x-python",
   "name": "python",
   "nbconvert_exporter": "python",
   "pygments_lexer": "ipython3",
   "version": "3.8.13"
  },
  "orig_nbformat": 4,
  "vscode": {
   "interpreter": {
    "hash": "b1dabdb1e2511521551b143b135b19bee1bbdcf4ccf3fce7c783f6fafcde3e4b"
   }
  }
 },
 "nbformat": 4,
 "nbformat_minor": 2
}
