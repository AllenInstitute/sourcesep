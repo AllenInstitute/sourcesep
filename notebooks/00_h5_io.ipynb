{
 "cells": [
  {
   "cell_type": "code",
   "execution_count": 1,
   "metadata": {},
   "outputs": [],
   "source": [
    "import h5py\n",
    "import pandas as pd\n",
    "from sourcesep.utils.config import load_config"
   ]
  },
  {
   "cell_type": "code",
   "execution_count": 2,
   "metadata": {},
   "outputs": [
    {
     "name": "stdout",
     "output_type": "stream",
     "text": [
      "Paths are for dataset tagged: all\n"
     ]
    }
   ],
   "source": [
    "paths = load_config(dataset_key='all')\n",
    "df_dict = dict(GCaMP8s_1 = pd.read_csv(paths['pilot']/'GCaMP8s_1.csv', index_col=[0]),\n",
    "           GCaMP8s_2 = pd.read_csv(paths['pilot']/'GCaMP8s_2.csv', index_col=[0]),\n",
    "           GCaMP8s_3 = pd.read_csv(paths['pilot']/'GCaMP8s_3.csv', index_col=[0]))"
   ]
  },
  {
   "cell_type": "code",
   "execution_count": 3,
   "metadata": {},
   "outputs": [
    {
     "name": "stdout",
     "output_type": "stream",
     "text": [
      "\n",
      "GCaMP8s_1\n",
      "       time       signal\n",
      "0  0.000000  2539.738556\n",
      "1  0.024409  2556.222711\n",
      "time      float64\n",
      "signal    float64\n",
      "dtype: object\n",
      "\n",
      "GCaMP8s_2\n",
      "      time       signal\n",
      "0  0.00000  1646.507353\n",
      "1  0.07469  1665.477941\n",
      "time      float64\n",
      "signal    float64\n",
      "dtype: object\n",
      "\n",
      "GCaMP8s_3\n",
      "       time       signal\n",
      "0  0.000000  2112.720760\n",
      "1  0.013369  2095.124269\n",
      "time      float64\n",
      "signal    float64\n",
      "dtype: object\n"
     ]
    }
   ],
   "source": [
    "for key in df_dict.keys():\n",
    "    print(f'\\n{key}')\n",
    "    print(df_dict[key].head(2))\n",
    "    print(df_dict[key].dtypes)"
   ]
  },
  {
   "cell_type": "code",
   "execution_count": 4,
   "metadata": {},
   "outputs": [],
   "source": [
    "# write h5 file with pandas dataframes\n",
    "store = pd.HDFStore(paths['pilot']/'test.hdf5')\n",
    "for key in df_dict.keys():\n",
    "    df_dict[key].to_hdf(store, key=key, mode='a')\n",
    "store.close()"
   ]
  },
  {
   "cell_type": "code",
   "execution_count": 5,
   "metadata": {},
   "outputs": [
    {
     "name": "stdout",
     "output_type": "stream",
     "text": [
      "<KeysViewHDF5 ['GCaMP8s_1', 'GCaMP8s_2', 'GCaMP8s_3']>\n",
      "<KeysViewHDF5 ['axis0', 'axis1', 'block0_items', 'block0_values']>\n",
      "       time       signal\n",
      "0  0.000000  2539.738556\n",
      "1  0.024409  2556.222711\n"
     ]
    }
   ],
   "source": [
    "# If not using pandas:\n",
    "with h5py.File(paths['pilot']/'test.hdf5', 'r') as f:\n",
    "    print(f.keys())\n",
    "    print(f['GCaMP8s_1'].keys())\n",
    "\n",
    "# if using pandas:\n",
    "GCaMP8s_1 = pd.read_hdf(paths['pilot']/'test.hdf5', key='GCaMP8s_1',more='r')\n",
    "print(GCaMP8s_1.head(2))\n"
   ]
  }
 ],
 "metadata": {
  "kernelspec": {
   "display_name": "sourcesep",
   "language": "python",
   "name": "python3"
  },
  "language_info": {
   "codemirror_mode": {
    "name": "ipython",
    "version": 3
   },
   "file_extension": ".py",
   "mimetype": "text/x-python",
   "name": "python",
   "nbconvert_exporter": "python",
   "pygments_lexer": "ipython3",
   "version": "3.8.0"
  },
  "orig_nbformat": 4,
  "vscode": {
   "interpreter": {
    "hash": "b1dabdb1e2511521551b143b135b19bee1bbdcf4ccf3fce7c783f6fafcde3e4b"
   }
  }
 },
 "nbformat": 4,
 "nbformat_minor": 2
}
