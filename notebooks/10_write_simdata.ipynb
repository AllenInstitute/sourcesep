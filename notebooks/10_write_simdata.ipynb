{
 "cells": [
  {
   "cell_type": "code",
   "execution_count": 1,
   "metadata": {},
   "outputs": [
    {
     "name": "stdout",
     "output_type": "stream",
     "text": [
      "Paths are for dataset tagged: all\n",
      "Paths are for dataset tagged: all\n",
      "Removing /home/rohan/Local/code/sourcesep/data/sims/2023-02-24.h5\n",
      "Creating O\n",
      "Creating A\n",
      "Creating N\n",
      "Creating B\n",
      "Creating M\n",
      "Creating H_ox\n",
      "Creating H_dox\n",
      "Saved to /home/rohan/Local/code/sourcesep/data/sims/2023-02-24.h5\n",
      "Saved config to /home/rohan/Local/code/sourcesep/data/sims/2023-02-24.toml\n"
     ]
    }
   ],
   "source": [
    "from sourcesep.sim import SimData\n",
    "from sourcesep.utils.config import load_config\n",
    "\n",
    "paths = load_config(dataset_key='all')\n",
    "sim = SimData(T=36000*6, cfg_path=paths['root'] / \"sim_config.toml\")\n",
    "sim.to_disk(filepath=str(paths['root'] / \"sims\" / \"2023-02-24.h5\"))"
   ]
  },
  {
   "cell_type": "code",
   "execution_count": 1,
   "metadata": {},
   "outputs": [
    {
     "name": "stdout",
     "output_type": "stream",
     "text": [
      "Paths are for dataset tagged: all\n",
      "Paths are for dataset tagged: all\n",
      "Creating O\n",
      "Creating A\n",
      "Creating N\n",
      "Creating B\n",
      "Creating M\n",
      "Creating H_ox\n",
      "Creating H_dox\n",
      "Creating S\n",
      "Creating W\n",
      "Creating E\n",
      "Creating Mu_ox\n",
      "Creating Mu_dox\n",
      "Creating L_arr\n",
      "Creating T_arr\n",
      "Saved to /home/rohan/Local/code/sourcesep/data/sims/2023-03-25_train.h5\n",
      "Saved config to /home/rohan/Local/code/sourcesep/data/sims/2023-03-25_train.toml\n",
      "Paths are for dataset tagged: all\n",
      "Creating O\n",
      "Creating A\n",
      "Creating N\n",
      "Creating B\n",
      "Creating M\n",
      "Creating H_ox\n",
      "Creating H_dox\n",
      "Creating S\n",
      "Creating W\n",
      "Creating E\n",
      "Creating Mu_ox\n",
      "Creating Mu_dox\n",
      "Creating L_arr\n",
      "Creating T_arr\n",
      "Saved to /home/rohan/Local/code/sourcesep/data/sims/2023-03-25_val.h5\n",
      "Saved config to /home/rohan/Local/code/sourcesep/data/sims/2023-03-25_val.toml\n"
     ]
    }
   ],
   "source": [
    "from sourcesep.sim import SimData\n",
    "from sourcesep.utils.config import load_config\n",
    "\n",
    "paths = load_config(dataset_key='all')\n",
    "sim = SimData(T=36000*6, cfg_path=paths['root'] / \"sim_config.toml\")\n",
    "sim.to_disk(filepath=str(paths['root'] / \"sims\" / \"2023-03-25_train.h5\"))\n",
    "\n",
    "sim = SimData(T=36000*6, cfg_path=paths['root'] / \"sim_config.toml\")\n",
    "sim.to_disk(filepath=str(paths['root'] / \"sims\" / \"2023-03-25_val.h5\"))"
   ]
  },
  {
   "cell_type": "code",
   "execution_count": 1,
   "metadata": {},
   "outputs": [
    {
     "name": "stdout",
     "output_type": "stream",
     "text": [
      "Paths are for dataset tagged: all\n",
      "A (216000, 3)\n",
      "B (5, 60)\n",
      "E (5, 60)\n",
      "H_dox (216000,)\n",
      "H_ox (216000,)\n",
      "L_arr (60,)\n",
      "M (216000,)\n",
      "Mu_dox (60,)\n",
      "Mu_ox (60,)\n",
      "N (216000, 5)\n",
      "O (216000, 5, 60)\n",
      "S (3, 60)\n",
      "T_arr (216000,)\n",
      "W (3, 5)\n"
     ]
    }
   ],
   "source": [
    "from sourcesep.sim import SimData\n",
    "from sourcesep.utils.config import load_config\n",
    "import h5py\n",
    "\n",
    "paths = load_config(dataset_key='all')\n",
    "f = h5py.File(paths['root'] / 'sims' / '2023-03-08.h5', 'r')\n",
    "for key in f.keys():\n",
    "    print(key, f[key].shape)"
   ]
  }
 ],
 "metadata": {
  "kernelspec": {
   "display_name": "sourcesep",
   "language": "python",
   "name": "python3"
  },
  "language_info": {
   "codemirror_mode": {
    "name": "ipython",
    "version": 3
   },
   "file_extension": ".py",
   "mimetype": "text/x-python",
   "name": "python",
   "nbconvert_exporter": "python",
   "pygments_lexer": "ipython3",
   "version": "3.8.0"
  },
  "orig_nbformat": 4,
  "vscode": {
   "interpreter": {
    "hash": "b1dabdb1e2511521551b143b135b19bee1bbdcf4ccf3fce7c783f6fafcde3e4b"
   }
  }
 },
 "nbformat": 4,
 "nbformat_minor": 2
}
