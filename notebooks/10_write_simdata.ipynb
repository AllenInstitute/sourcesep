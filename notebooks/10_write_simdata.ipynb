{
 "cells": [
  {
   "cell_type": "code",
   "execution_count": 1,
   "metadata": {},
   "outputs": [
    {
     "name": "stdout",
     "output_type": "stream",
     "text": [
      "Paths are for dataset tagged: all\n",
      "Paths are for dataset tagged: all\n",
      "Removing /home/rohan/Local/code/sourcesep/data/sims/2023-02-24.h5\n",
      "Creating O\n",
      "Creating A\n",
      "Creating N\n",
      "Creating B\n",
      "Creating M\n",
      "Creating H_ox\n",
      "Creating H_dox\n",
      "Saved to /home/rohan/Local/code/sourcesep/data/sims/2023-02-24.h5\n",
      "Saved config to /home/rohan/Local/code/sourcesep/data/sims/2023-02-24.toml\n"
     ]
    }
   ],
   "source": [
    "from sourcesep.sim import SimData\n",
    "from sourcesep.utils.config import load_config\n",
    "\n",
    "paths = load_config(dataset_key='all')\n",
    "sim = SimData(T=36000*6, cfg_path=paths['root'] / \"sim_config.toml\")\n",
    "sim.to_disk(filename=str(paths['root'] / \"sims\" / \"2023-02-24.h5\"))"
   ]
  }
 ],
 "metadata": {
  "kernelspec": {
   "display_name": "sourcesep",
   "language": "python",
   "name": "python3"
  },
  "language_info": {
   "codemirror_mode": {
    "name": "ipython",
    "version": 3
   },
   "file_extension": ".py",
   "mimetype": "text/x-python",
   "name": "python",
   "nbconvert_exporter": "python",
   "pygments_lexer": "ipython3",
   "version": "3.8.0"
  },
  "orig_nbformat": 4,
  "vscode": {
   "interpreter": {
    "hash": "b1dabdb1e2511521551b143b135b19bee1bbdcf4ccf3fce7c783f6fafcde3e4b"
   }
  }
 },
 "nbformat": 4,
 "nbformat_minor": 2
}
