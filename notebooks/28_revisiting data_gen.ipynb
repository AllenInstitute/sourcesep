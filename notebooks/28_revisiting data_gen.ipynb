{
 "cells": [
  {
   "cell_type": "markdown",
   "metadata": {},
   "source": [
    "Let  $T_\\textrm{s}$ be the set of spike times. With $\\theta(t)$ as the Heaviside step function:\n",
    "\n",
    "$$\n",
    "\\begin{align}\n",
    "x(t) &= \\sum_{t_{s} \\in T_{s}}\\delta(t - t_{s}) \\\\\n",
    "k(t) &= e^{-\\frac{t}{\\tau}}\\theta(t) \\\\\n",
    "a(t) &= (x * k)(t) \\\\\n",
    "     &= \\int_{-\\infty}^{\\infty}\\sum_{t_{s} \\in T_{s}}{\\delta(t'-t_s)}{e^{-\\frac{t-t'}{\\tau}}\\theta(t-t')}dt' \\\\\n",
    "     &= \\sum_{t_{s} \\in T_{s}}{e^{-\\frac{t-t_s}{\\tau}}\\theta(t-t_s)} \\\\\n",
    "\\end{align}\n",
    "$$\n",
    "\n",
    "Here $k(t)$ is the kernel function, $\\tau$ is the time constant, \n",
    "\n",
    "$$\n",
    "x(t) \\sim \\textrm{Bernoulli}(p) \\\\\n",
    "T_\\textrm{spike} = \\{t : x(t) = 1\\} \\\\\n",
    "k(t) = \\sum_{t_0 = -\\infty}^{\\infty}{\\sum_{t_\\textrm{spike} \\in T_\\textrm{spike}}{\\delta(t_0 - t_\\textrm{spike}) e ^{-\\frac{t-t_0}{\\tau}}\\theta(t-t_0)}} \\\\\n",
    "$$\n",
    "\n"
   ]
  }
 ],
 "metadata": {
  "kernelspec": {
   "display_name": "sourcesep",
   "language": "python",
   "name": "python3"
  },
  "language_info": {
   "codemirror_mode": {
    "name": "ipython",
    "version": 3
   },
   "file_extension": ".py",
   "mimetype": "text/x-python",
   "name": "python",
   "nbconvert_exporter": "python",
   "pygments_lexer": "ipython3",
   "version": "3.8.18"
  },
  "orig_nbformat": 4,
  "vscode": {
   "interpreter": {
    "hash": "b1dabdb1e2511521551b143b135b19bee1bbdcf4ccf3fce7c783f6fafcde3e4b"
   }
  }
 },
 "nbformat": 4,
 "nbformat_minor": 2
}
